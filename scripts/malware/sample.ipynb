{
 "cells": [
  {
   "cell_type": "markdown",
   "metadata": {},
   "source": [
    "#### Todo list \n",
    " - verifier creation \n",
    " - verifier test\n",
    " - verifier conclusion \n",
    " - installer conclusion\n",
    " - Get a cyber security kill chain for general purpose "
   ]
  },
  {
   "cell_type": "markdown",
   "metadata": {},
   "source": [
    "## Verifier Done "
   ]
  },
  {
   "cell_type": "code",
   "execution_count": 2,
   "metadata": {},
   "outputs": [
    {
     "name": "stdout",
     "output_type": "stream",
     "text": [
      "wifite is not installed.\n"
     ]
    },
    {
     "name": "stderr",
     "output_type": "stream",
     "text": [
      "[sudo] password for juto: "
     ]
    },
    {
     "name": "stdout",
     "output_type": "stream",
     "text": [
      "Reading package lists...\n",
      "Building dependency tree...\n",
      "Reading state information...\n",
      "wifite is already the newest version (2.7.0-1).\n",
      "0 upgraded, 0 newly installed, 0 to remove and 16 not upgraded.\n",
      "wifite has been installed.\n"
     ]
    }
   ],
   "source": [
    "import subprocess\n",
    "from getpass import getpass\n",
    "\n",
    "class ToolVerifier:\n",
    "    def __init__(self, tool_name):\n",
    "        self.tool_name = tool_name\n",
    "\n",
    "    def is_tool_installed(self):\n",
    "        try:\n",
    "            subprocess.run([self.tool_name, '--version'], check=True, stdout=subprocess.PIPE, stderr=subprocess.PIPE)\n",
    "            return True\n",
    "        except subprocess.CalledProcessError:\n",
    "            return False\n",
    "        except FileNotFoundError:\n",
    "            return False\n",
    "\n",
    "    def install_tool(self):\n",
    "        try:\n",
    "            password =  'pijicong'#getpass(\"Enter your sudo password: \")\n",
    "            command = f'echo {password} | sudo -S apt-get install -y {self.tool_name}'\n",
    "            subprocess.run(command, shell=True, check=True)\n",
    "            print(f\"{self.tool_name} has been installed.\")\n",
    "        except subprocess.CalledProcessError as e:\n",
    "            print(f\"Failed to install {self.tool_name}. Error: {e}\")\n",
    "\n",
    "    def verifier(self):\n",
    "        if self.is_tool_installed():\n",
    "            print(f\"{self.tool_name} is installed.\")\n",
    "        else:\n",
    "            print(f\"{self.tool_name} is not installed.\")\n",
    "            install = input(f\"Do you want to install {self.tool_name}? (yes/no): \").strip().lower()\n",
    "            if install == 'yes':\n",
    "\n",
    "                self.install_tool()\n",
    "            else:\n",
    "                print(f\"{self.tool_name} will not be installed.\")\n",
    "\n",
    "# Usage\n",
    "tool_name = 'wifite'\n",
    "verifier = ToolVerifier(tool_name)\n",
    "verifier.verifier()"
   ]
  },
  {
   "cell_type": "markdown",
   "metadata": {},
   "source": [
    "## Script User"
   ]
  },
  {
   "cell_type": "code",
   "execution_count": 2,
   "metadata": {},
   "outputs": [
    {
     "name": "stdout",
     "output_type": "stream",
     "text": [
      "Starting Nmap 7.94SVN ( https://nmap.org ) at 2025-01-29 22:22 WAT\n",
      "Note: Host seems down. If it is really up, but blocking our ping probes, try -Pn\n",
      "Nmap done: 1 IP address (0 hosts up) scanned in 3.33 seconds\n",
      "\n"
     ]
    }
   ],
   "source": [
    "import subprocess\n",
    "try:\n",
    "    result = subprocess.run(['bash', 'nmap.sh'], check=True, stdout=subprocess.PIPE, stderr=subprocess.PIPE)\n",
    "    print(result.stdout.decode())\n",
    "except subprocess.CalledProcessError as e:\n",
    "    print(f\"Failed to run nmap.sh. Error: {e.stderr.decode()}\")"
   ]
  },
  {
   "cell_type": "markdown",
   "metadata": {},
   "source": [
    "### Os detector"
   ]
  },
  {
   "cell_type": "code",
   "execution_count": 1,
   "metadata": {},
   "outputs": [
    {
     "name": "stdout",
     "output_type": "stream",
     "text": [
      "The current operating system is: Linux\n"
     ]
    }
   ],
   "source": [
    "import os\n",
    "import platform\n",
    "\n",
    "def detect_os():\n",
    "    # Check the platform module for the OS name\n",
    "    if 'linux' in platform.system().lower():\n",
    "        return \"Linux\"\n",
    "    elif 'windows' in platform.system().lower():\n",
    "        return \"Windows\"\n",
    "    else:\n",
    "        return \"Unknown\"\n",
    "\n",
    "# Example usage:\n",
    "current_os = detect_os()\n",
    "print(f\"The current operating system is: {current_os}\")"
   ]
  },
  {
   "cell_type": "code",
   "execution_count": 2,
   "metadata": {},
   "outputs": [
    {
     "name": "stdout",
     "output_type": "stream",
     "text": [
      "The current operating system is: Linux\n"
     ]
    }
   ],
   "source": [
    "# ```python\n",
    "import os\n",
    "\n",
    "def detect_os():\n",
    "    if os.name == 'posix':\n",
    "        return \"Linux\"\n",
    "    elif os.name == 'nt':\n",
    "        return \"Windows\"\n",
    "    else:\n",
    "        return \"Unknown\"\n",
    "\n",
    "# Example usage:\n",
    "current_os = detect_os()\n",
    "print(f\"The current operating system is: {current_os}\")"
   ]
  },
  {
   "cell_type": "markdown",
   "metadata": {},
   "source": [
    "## Worm creation"
   ]
  },
  {
   "cell_type": "code",
   "execution_count": null,
   "metadata": {},
   "outputs": [],
   "source": []
  }
 ],
 "metadata": {
  "kernelspec": {
   "display_name": ".venv",
   "language": "python",
   "name": "python3"
  },
  "language_info": {
   "codemirror_mode": {
    "name": "ipython",
    "version": 3
   },
   "file_extension": ".py",
   "mimetype": "text/x-python",
   "name": "python",
   "nbconvert_exporter": "python",
   "pygments_lexer": "ipython3",
   "version": "3.12.3"
  }
 },
 "nbformat": 4,
 "nbformat_minor": 2
}
